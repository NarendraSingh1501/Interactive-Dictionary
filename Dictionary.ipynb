{
 "cells": [
  {
   "cell_type": "markdown",
   "metadata": {},
   "source": [
    "# Interactive Dictionary\n",
    "\n",
    "We trying an interactive dictionary."
   ]
  },
  {
   "cell_type": "markdown",
   "metadata": {},
   "source": [
    "In this program we created a dictionary. In this we created another file named = \"076 data.json\" and restore the data form this file and will use that data in this program."
   ]
  },
  {
   "cell_type": "code",
   "execution_count": 1,
   "metadata": {},
   "outputs": [],
   "source": [
    "import json"
   ]
  },
  {
   "cell_type": "markdown",
   "metadata": {},
   "source": [
    "To store a large collection of data and spetially while making a dictionary we have to store a lots of words and for that we will use a \"JSON\" file. A \"JSON\" file stores data same as 'Key:Values pairs' as stored in dictionary in python datatype. \n",
    "\n",
    "This file is immutable due to which we are not able to change the values in the file and this only allows us to read the file so this will be more secure as anyone else will not be able to change the values and get the wrong output then the wanted.\n",
    "\n",
    "The input which will be taken from user as string will be matched to the key of the \"JSON\" fileand if found in the file then the value with the key will be printed."
   ]
  },
  {
   "cell_type": "code",
   "execution_count": 2,
   "metadata": {},
   "outputs": [],
   "source": [
    "from difflib import get_close_matches"
   ]
  },
  {
   "cell_type": "markdown",
   "metadata": {},
   "source": [
    "There is a big problem of misplaced words and it should be sorted for easy usage of the dictionary and for that if we code directly then it will be next to impossible as we have to code a lot for that and to short that out we will use the \"difflib\" from this library we will use the 'get_close_matches' method so that we can get near to the word we were searching for.\n",
    "\n",
    "The 'get_close_method' is basically used when we miss the word with one letter or two and for that small mistake we have to execute the whole process from starting but it will be brain storming to reach that word that's why we use this method."
   ]
  },
  {
   "cell_type": "code",
   "execution_count": 3,
   "metadata": {},
   "outputs": [],
   "source": [
    "data = json.load(open(\"076 data.json\"))"
   ]
  },
  {
   "cell_type": "markdown",
   "metadata": {},
   "source": [
    "In the above code we will open the JSON file by open() function and load the '076' file with the help of load() method from \n",
    "JSON library."
   ]
  },
  {
   "cell_type": "code",
   "execution_count": 4,
   "metadata": {},
   "outputs": [
    {
     "name": "stdout",
     "output_type": "stream",
     "text": [
      "Enter word: rain\n",
      "['Precipitation in the form of liquid water drops with diameters greater than 0.5 millimetres.', 'To fall from the clouds in drops of water.']\n"
     ]
    }
   ],
   "source": [
    "def translate(word):\n",
    "\n",
    "# In the above line we declared a function named \"translate\" which will take the input from the user in string and will match\n",
    "# to the \"JSON\" files key and will print the output accordingly\n",
    "\n",
    "\n",
    "    word = word.lower()\n",
    "# Here in the above line we have written \"word.lower()\" the main reason behind writing this was that the user can enter the\n",
    "# string in any Upper or Lower case but the \"JSON\" file will only take lower case so for that we have to first convert all the\n",
    "# upper case string in lower case\n",
    "# After writing this line even if the user writes 'Rain' or 'rAin' or 'RAIN' it will always convert to 'rain' and then it will\n",
    "# be going to be executed because if the user enters such values without this then even if the word will be present in \"JSON\"\n",
    "# file it will always show an error.\n",
    "    \n",
    "    if word in data:\n",
    "        return data[word]\n",
    "# In the above line we have written an if condition according to which if the enterd values matches the key then the value\n",
    "# will be printed given for that key.\n",
    "    \n",
    "    \n",
    "    elif len(get_close_matches(word, data.keys())) > 0:\n",
    "        yn = input(\"Are you looking for the word %s ? Enter Y for Yes or N for No: \" % get_close_matches(word, data.keys())[0])\n",
    "# In the above line we have given an elif (also means 'else if') according to which if the first condition does not get\n",
    "# satisfied then the elif condition will be executed according to which if you have enterd a word which is nearly to the\n",
    "# key present in the \"JSON\" file then it will get it this condition.\n",
    "# Here we will take input from user in \"Y\" or \"N\" which means \"Yes\" or \"No\" respectively.\n",
    "        \n",
    "        if yn == \"Y\":\n",
    "            return data[get_close_matches(word, data.keys())[0]]\n",
    "# If the input by the user is \"Y\" (out of \"Y\" or \"N\" asked in above code) then the key will be matched and the value with the\n",
    "# key will be printed.\n",
    "        \n",
    "        elif yn == \"N\":\n",
    "            return \"Word not found. Please try again.\"\n",
    "# But if the user enters \"N\" then we will show a message and exit the condition as well as function.\n",
    "        \n",
    "        else:\n",
    "            return \"Please enter either Y or N\"\n",
    "# But there is also a condition if the user does not enter neither \"Y\" nor \"N\" then we will print this message and will exit\n",
    "# the condition and function.\n",
    "    \n",
    "    \n",
    "    else:\n",
    "        return \"No word was entered\"\n",
    "# Now what if the user does not enter any word and simply enters enter or the entered word does not match any word the we will\n",
    "# show this output for that.\n",
    "    \n",
    "word = input(\"Enter word: \")\n",
    "# Here in the above line we will take the input from the user and will store in a variable named \"word\" and will use it.\n",
    "\n",
    "print(translate(word))\n",
    "# Here in the above statement we have called the function and also printed the output accordingly "
   ]
  },
  {
   "cell_type": "code",
   "execution_count": null,
   "metadata": {},
   "outputs": [],
   "source": []
  }
 ],
 "metadata": {
  "kernelspec": {
   "display_name": "Python 3",
   "language": "python",
   "name": "python3"
  },
  "language_info": {
   "codemirror_mode": {
    "name": "ipython",
    "version": 3
   },
   "file_extension": ".py",
   "mimetype": "text/x-python",
   "name": "python",
   "nbconvert_exporter": "python",
   "pygments_lexer": "ipython3",
   "version": "3.7.3"
  }
 },
 "nbformat": 4,
 "nbformat_minor": 2
}
